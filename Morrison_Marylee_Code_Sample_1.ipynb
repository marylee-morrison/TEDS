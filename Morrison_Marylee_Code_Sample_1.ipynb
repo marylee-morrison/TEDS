{
 "cells": [
  {
   "cell_type": "markdown",
   "metadata": {},
   "source": [
    "# ![](https://ga-dash.s3.amazonaws.com/production/assets/logo-9f88ae6c9c3871690e33280fcf557f33.png) Homework 1\n",
    "\n",
    "Read each question carefully!"
   ]
  },
  {
   "cell_type": "markdown",
   "metadata": {},
   "source": [
    "# Problem 1\n",
    "Create a `BankAccount` class. This class will have the following specifications:\n",
    "* It should have an `account_type` attribute (for example, user may input `\"checking\"` or `\"savings\"`).\n",
    "* Have a `balance` which always starts at 0.\n",
    "* Have an `interest_rate`.\n",
    "* Have a `deposit()` and `withdrawal()` method which add or subtract from the balance.\n",
    "    - If a user attempts to withdraw more money than they have, throw an error and do not update the balance.\n",
    "    - If you know how, this can be an actual error thrown with the `raise` keyword. Otherwise a simple print statement will suffice.\n",
    "* Have an `accrue_interest()` method that updates the balance accordingly.\n",
    "\n",
    "**BONUS**: Have a class variable which counts the total number of `BankAccount`s made."
   ]
  },
  {
   "cell_type": "code",
   "execution_count": 3,
   "metadata": {},
   "outputs": [],
   "source": [
    "#Create bank account class\n",
    "class BankAccount:\n",
    "    #Define class variable to record number of Bank Accounts created\n",
    "    count = 0\n",
    "\n",
    "    def __init__(self, interest_rate = 2.5):\n",
    "        \"\"\"This function takes a user-defined account type (str) and interest rate (float) when a bank account is created.\"\"\"\n",
    "        BankAccount.count += 1 #When a new bank account is created, increment the class counter by one\n",
    "        self.account_type = input(\"Please input account type - checking or savings: \") #Set the account type to the inputted value\n",
    "        self.interest_rate = interest_rate #Set the interest rate\n",
    "        self.balance = 0 #Set the balance for all new bank account to zero\n",
    "\n",
    "    def deposit(self, d_amount):\n",
    "        \"\"\"This function deposits a given amount (d_amount, type str) into a bank account\"\"\"\n",
    "\n",
    "        #When a deposit is made, add the deposit amount to the current balance\n",
    "        self.balance = self.balance + float(d_amount)\n",
    "\n",
    "    def withdrawal(self, w_amount):\n",
    "        \"\"\"This function withdrawls a given amount into a bank account\"\"\"  \n",
    "\n",
    "        #When a withdrawal is made, subtract the withdrawal amount from the current balance. \n",
    "        #If there is not enough money to withdrawal, print an error message.\n",
    "        if w_amount > self.balance:\n",
    "            print(\"Error! Not enough money to withdraw.\")\n",
    "        else:\n",
    "            self.balance = self.balance - float(w_amount)\n",
    "\n",
    "    def accrue_interest(self, period):\n",
    "        \"\"\"This function accrues interest based on a given period of time\"\"\"    \n",
    "        period =  int(period)\n",
    "        #Change the interest rate from a percentage to a decimal\n",
    "        interest_rate = float(self.interest_rate) / 100\n",
    "\n",
    "        #For a given period of time, calculate the interest at the end of each period and add that interest to the balance.\n",
    "        for i in range(0,period):\n",
    "            self.balance *= (1 + interest_rate)"
   ]
  },
  {
   "cell_type": "markdown",
   "metadata": {},
   "source": [
    "# Problem 2\n",
    "* Create a `BankAccount` and deposit \\$1,000 into it. This account gets 2.5\\% annual interest.\n",
    "* Do the following over the course of 10 years (ie, 10 times):\n",
    "    - Withdraw \\$100.\n",
    "    - Accrue interest.\n",
    "    - Print balance.\n",
    "* How much money do you have remaining at the end of this time?\n",
    "\n",
    "_Tip:_ When printing the balance, you may wish to round to the nearest penny. You can round a number `x` to two decimal places with `round(x, 2)`."
   ]
  },
  {
   "cell_type": "code",
   "execution_count": 4,
   "metadata": {},
   "outputs": [
    {
     "name": "stdin",
     "output_type": "stream",
     "text": [
      "Please input account type - checking or savings:  checking\n",
      "Would you like to change the interest rate? The default is 2.5%. Please enter yes or no.  \n"
     ]
    },
    {
     "name": "stdout",
     "output_type": "stream",
     "text": [
      "Interest rate was not changed.\n",
      "\n",
      "The beginning balance for this account is $0\n",
      "The balance at the end of year 1 is $922.5\n",
      "The balance at the end of year 2 is $843.06\n",
      "The balance at the end of year 3 is $761.64\n",
      "The balance at the end of year 4 is $678.18\n",
      "The balance at the end of year 5 is $592.63\n",
      "The balance at the end of year 6 is $504.95\n",
      "The balance at the end of year 7 is $415.07\n",
      "The balance at the end of year 8 is $322.95\n",
      "The balance at the end of year 9 is $228.52\n",
      "The balance at the end of year 10 is $131.74\n",
      "The ending balance for this checking account is $131.74\n",
      "Total accounts created: 1\n"
     ]
    }
   ],
   "source": [
    "#Create new bank account\n",
    "bankaccount_1 = BankAccount()\n",
    "\n",
    "#Option to change bank account interest rate, default is 2.5%\n",
    "interest_rate_option = input(\"Would you like to change the interest rate? The default is 2.5%. Please enter yes or no. \")\n",
    "if interest_rate_option.lower() == \"yes\" or interest_rate_option.lower() == \"y\":\n",
    "    interest_rate_change= input(\"what would you like the new interest rate to be? \")\n",
    "    bankaccount_1.interest_rate = float(interest_rate_change)\n",
    "else:\n",
    "    print(\"Interest rate was not changed.\")\n",
    "    \n",
    "#Print beginning balance to show it is equal 0\n",
    "print(f\"\\nThe beginning balance for this account is ${bankaccount_1.balance}\")\n",
    "\n",
    "#Make an initial deposit of $1,000\n",
    "bankaccount_1.deposit(1000)\n",
    "\n",
    "#Loop ten times (once a year for ten years) and for each year, withdrawal $100 and calculate interest\n",
    "for i in range(1,11):\n",
    "    bankaccount_1.withdrawal(100)\n",
    "    bankaccount_1.accrue_interest(1) #Since the accrue_interest is in a loop, the period value is 1 instead of 10\n",
    "    print(f\"The balance at the end of year {i} is ${round(bankaccount_1.balance,2)}\")\n",
    "\n",
    "#Print the ending balance\n",
    "print(f\"The ending balance for this {bankaccount_1.account_type} account is ${round(bankaccount_1.balance,2)}\")\n",
    "\n",
    "#Print total number of accounts created\n",
    "print(f\"Total accounts created: {BankAccount.count}\")"
   ]
  },
  {
   "cell_type": "code",
   "execution_count": null,
   "metadata": {},
   "outputs": [],
   "source": []
  }
 ],
 "metadata": {
  "kernelspec": {
   "display_name": "Python 3",
   "language": "python",
   "name": "python3"
  },
  "language_info": {
   "codemirror_mode": {
    "name": "ipython",
    "version": 3
   },
   "file_extension": ".py",
   "mimetype": "text/x-python",
   "name": "python",
   "nbconvert_exporter": "python",
   "pygments_lexer": "ipython3",
   "version": "3.7.3"
  }
 },
 "nbformat": 4,
 "nbformat_minor": 2
}
